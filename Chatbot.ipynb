{
  "cells": [
    {
      "cell_type": "code",
      "execution_count": null,
      "metadata": {
        "colab": {
          "base_uri": "https://localhost:8080/"
        },
        "id": "tVyZsV2M3REy",
        "outputId": "71367373-98ea-4325-8210-fadca8b48586"
      },
      "outputs": [
        {
          "name": "stdout",
          "output_type": "stream",
          "text": [
            "Looking in indexes: https://pypi.org/simple, https://us-python.pkg.dev/colab-wheels/public/simple/\n",
            "Requirement already satisfied: nltk in /usr/local/lib/python3.8/dist-packages (3.7)\n",
            "Requirement already satisfied: joblib in /usr/local/lib/python3.8/dist-packages (from nltk) (1.2.0)\n",
            "Requirement already satisfied: click in /usr/local/lib/python3.8/dist-packages (from nltk) (7.1.2)\n",
            "Requirement already satisfied: regex>=2021.8.3 in /usr/local/lib/python3.8/dist-packages (from nltk) (2022.6.2)\n",
            "Requirement already satisfied: tqdm in /usr/local/lib/python3.8/dist-packages (from nltk) (4.64.1)\n"
          ]
        }
      ],
      "source": [
        "pip install nltk"
      ]
    },
    {
      "cell_type": "code",
      "execution_count": null,
      "metadata": {
        "colab": {
          "base_uri": "https://localhost:8080/"
        },
        "id": "M4Gv0O5xsUpZ",
        "outputId": "d82f1242-c123-4b0f-d1a7-12e629feadc2"
      },
      "outputs": [
        {
          "name": "stdout",
          "output_type": "stream",
          "text": [
            "Looking in indexes: https://pypi.org/simple, https://us-python.pkg.dev/colab-wheels/public/simple/\n",
            "Requirement already satisfied: newspaper3k in /usr/local/lib/python3.8/dist-packages (0.2.8)\n",
            "Requirement already satisfied: feedfinder2>=0.0.4 in /usr/local/lib/python3.8/dist-packages (from newspaper3k) (0.0.4)\n",
            "Requirement already satisfied: jieba3k>=0.35.1 in /usr/local/lib/python3.8/dist-packages (from newspaper3k) (0.35.1)\n",
            "Requirement already satisfied: PyYAML>=3.11 in /usr/local/lib/python3.8/dist-packages (from newspaper3k) (6.0)\n",
            "Requirement already satisfied: requests>=2.10.0 in /usr/local/lib/python3.8/dist-packages (from newspaper3k) (2.23.0)\n",
            "Requirement already satisfied: tldextract>=2.0.1 in /usr/local/lib/python3.8/dist-packages (from newspaper3k) (3.4.0)\n",
            "Requirement already satisfied: lxml>=3.6.0 in /usr/local/lib/python3.8/dist-packages (from newspaper3k) (4.9.2)\n",
            "Requirement already satisfied: cssselect>=0.9.2 in /usr/local/lib/python3.8/dist-packages (from newspaper3k) (1.2.0)\n",
            "Requirement already satisfied: beautifulsoup4>=4.4.1 in /usr/local/lib/python3.8/dist-packages (from newspaper3k) (4.6.3)\n",
            "Requirement already satisfied: feedparser>=5.2.1 in /usr/local/lib/python3.8/dist-packages (from newspaper3k) (6.0.10)\n",
            "Requirement already satisfied: tinysegmenter==0.3 in /usr/local/lib/python3.8/dist-packages (from newspaper3k) (0.3)\n",
            "Requirement already satisfied: nltk>=3.2.1 in /usr/local/lib/python3.8/dist-packages (from newspaper3k) (3.7)\n",
            "Requirement already satisfied: Pillow>=3.3.0 in /usr/local/lib/python3.8/dist-packages (from newspaper3k) (7.1.2)\n",
            "Requirement already satisfied: python-dateutil>=2.5.3 in /usr/local/lib/python3.8/dist-packages (from newspaper3k) (2.8.2)\n",
            "Requirement already satisfied: six in /usr/local/lib/python3.8/dist-packages (from feedfinder2>=0.0.4->newspaper3k) (1.15.0)\n",
            "Requirement already satisfied: sgmllib3k in /usr/local/lib/python3.8/dist-packages (from feedparser>=5.2.1->newspaper3k) (1.0.0)\n",
            "Requirement already satisfied: joblib in /usr/local/lib/python3.8/dist-packages (from nltk>=3.2.1->newspaper3k) (1.2.0)\n",
            "Requirement already satisfied: click in /usr/local/lib/python3.8/dist-packages (from nltk>=3.2.1->newspaper3k) (7.1.2)\n",
            "Requirement already satisfied: regex>=2021.8.3 in /usr/local/lib/python3.8/dist-packages (from nltk>=3.2.1->newspaper3k) (2022.6.2)\n",
            "Requirement already satisfied: tqdm in /usr/local/lib/python3.8/dist-packages (from nltk>=3.2.1->newspaper3k) (4.64.1)\n",
            "Requirement already satisfied: urllib3!=1.25.0,!=1.25.1,<1.26,>=1.21.1 in /usr/local/lib/python3.8/dist-packages (from requests>=2.10.0->newspaper3k) (1.24.3)\n",
            "Requirement already satisfied: idna<3,>=2.5 in /usr/local/lib/python3.8/dist-packages (from requests>=2.10.0->newspaper3k) (2.10)\n",
            "Requirement already satisfied: certifi>=2017.4.17 in /usr/local/lib/python3.8/dist-packages (from requests>=2.10.0->newspaper3k) (2022.12.7)\n",
            "Requirement already satisfied: chardet<4,>=3.0.2 in /usr/local/lib/python3.8/dist-packages (from requests>=2.10.0->newspaper3k) (3.0.4)\n",
            "Requirement already satisfied: filelock>=3.0.8 in /usr/local/lib/python3.8/dist-packages (from tldextract>=2.0.1->newspaper3k) (3.8.2)\n",
            "Requirement already satisfied: requests-file>=1.4 in /usr/local/lib/python3.8/dist-packages (from tldextract>=2.0.1->newspaper3k) (1.5.1)\n"
          ]
        }
      ],
      "source": [
        "pip install newspaper3k"
      ]
    },
    {
      "cell_type": "code",
      "execution_count": null,
      "metadata": {
        "id": "9WnG5lyzsnpp"
      },
      "outputs": [],
      "source": [
        "from newspaper import Article\n",
        "import random\n",
        "import string\n",
        "import nltk\n",
        "from sklearn.feature_extraction.text import CountVectorizer\n",
        "from sklearn.metrics.pairwise import cosine_similarity\n",
        "import numpy as np\n",
        "import warnings\n",
        "warnings.filterwarnings('ignore')"
      ]
    },
    {
      "cell_type": "code",
      "execution_count": null,
      "metadata": {
        "colab": {
          "base_uri": "https://localhost:8080/"
        },
        "id": "cGiSszO9vPBs",
        "outputId": "6a2edd60-cd51-4140-b51a-71f9d3204a98"
      },
      "outputs": [
        {
          "data": {
            "text/plain": [
              "True"
            ]
          },
          "execution_count": 51,
          "metadata": {},
          "output_type": "execute_result"
        }
      ],
      "source": [
        "nltk.download('punkt', quiet=True)"
      ]
    },
    {
      "cell_type": "code",
      "execution_count": null,
      "metadata": {
        "id": "IFkwC5SCvTqS"
      },
      "outputs": [],
      "source": [
        "article = Article('https://id.wikipedia.org/wiki/Bali')\n",
        "article.download()\n",
        "article.parse()\n",
        "article.nlp()\n",
        "corpus = article.text"
      ]
    },
    {
      "cell_type": "code",
      "execution_count": null,
      "metadata": {
        "colab": {
          "base_uri": "https://localhost:8080/"
        },
        "id": "FveNWakRyMHS",
        "outputId": "f9259c48-29d2-4d81-9c06-7d423cfda01a"
      },
      "outputs": [
        {
          "name": "stdout",
          "output_type": "stream",
          "text": [
            "Halaman ini berisi artikel tentang Provinsi Bali. Untuk kegunaan lain, lihat Bali (disambiguasi)\n",
            "\n",
            "Artikel ini bukan mengenai Pulau Bali\n",
            "\n",
            "Bali (Bali: ᬩᬮᬶ) adalah sebuah wilayah provinsi yang terletak di Indonesia. Ibu kotanya adalah Denpasar. Provinsi Bali terletak di bagian barat Kepulauan Nusa Tenggara. Di awal kemerdekaan Indonesia, pulau ini termasuk dalam Provinsi Sunda Kecil yang beribu kota di Singaraja, dan kini terbagi menjadi 3 provinsi, yakni Bali, Nusa Tenggara Barat, dan Nusa Tenggara Timur .[9][10] Pada tahun 2020, penduduk provinsi Bali berjumlah 4.317.404 jiwa, dengan kepadatan 747 jiwa/km2.[4]\n",
            "\n",
            "Selain terdiri dari pulau Bali, wilayah provinsi Bali juga terdiri dari pulau-pulau yang lebih kecil di sekitarnya, yaitu pulau Nusa Penida, pulau Nusa Lembongan, pulau Nusa Ceningan, Pulau Serangan, dan Pulau Menjangan. Secara geografis, Bali terletak di antara Pulau Jawa dan Pulau Lombok. Mayoritas penduduk Bali adalah pemeluk agama Hindu.[5] Di dunia, Bali terkenal sebagai tujuan pariwisata dengan keunikan berbagai hasil seni-budayanya, khususnya bagi para wisatawan Jepang dan Australia. Bali juga dikenal dengan julukan Pulau Dewata dan Pulau Seribu Pura.\n",
            "\n",
            "Peta Provinsi Bali\n",
            "\n",
            "Peta Administrasi Provinsi Bali\n",
            "\n",
            "Pulau Bali adalah bagian dari Kepulauan Sunda Kecil sepanjang 153 km dan selebar 112 km sekitar 3,2 km dari Pulau Jawa. Secara geografis, Bali terletak di 8°25′23″ Lintang Selatan dan 115°14′55″ Bujur Timur yang membuatnya beriklim tropis seperti bagian Indonesia yang lain.\n",
            "\n",
            "Gunung Agung adalah titik tertinggi di Bali setinggi 3.148 m. Gunung berapi ini terakhir meletus pada Maret 1963. Gunung Batur juga salah satu gunung yang ada di Bali. Sekitar 30.000 tahun yang lalu, Gunung Batur meletus dan menghasilkan bencana yang dahsyat di bumi. Berbeda dengan di bagian utara, bagian selatan Bali adalah dataran rendah yang dialiri sungai-sungai.\n",
            "\n",
            "Berdasarkan relief dan topografi, di tengah-tengah Pulau Bali terbentang pegunungan yang memanjang dari barat ke timur dan di antara pegunungan tersebut terdapat gugusan gunung berapi yaitu Gunung Batur dan Gunung Agung serta gunung yang tidak berapi, yaitu Gunung Merbuk, Gunung Patas dan Gunung Seraya. Adanya pegunungan tersebut menyebabkan Daerah Bali secara Geografis terbagi menjadi 2 (dua) bagian yang tidak sama yaitu Bali Utara dengan dataran rendah yang sempit dan kurang landai dan Bali Selatan dengan dataran rendah yang luas dan landai. Kemiringan lahan Pulau Bali terdiri dari lahan datar (0-2%) seluas 122.652 ha, lahan bergelombang (2-15%) seluas 118.339 ha, lahan curam (15-40%) seluas 190.486 ha dan lahan sangat curam (>40%) seluas 132.189 ha. Provinsi Bali memiliki 4 (empat) buah danau yang berlokasi di daerah pegunungan, yaitu Danau Beratan atau Bedugul, Buyan, Tamblingan, dan Batur. Alam Bali yang indah menjadikan pulau Bali terkenal sebagai daerah wisata.\n",
            "\n",
            "Ibu kota Bali adalah Denpasar. Tempat-tempat penting lainnya adalah Ubud sebagai pusat kesenian dan peristirahatan, terletak di Kabupaten Gianyar. Nusa Lembongan adalah sebagai salah satu tempat menyelam (diving), terletak di Kabupaten Klungkung. Sedangkan Kuta, Seminyak, Jimbaran dan Nusa Dua adalah beberapa tempat yang menjadi tujuan utama pariwisata, baik wisata pantai maupun tempat peristirahatan, spa, dan lain-lain, terletak di Kabupaten Badung.\n",
            "\n",
            "Luas wilayah Provinsi Bali adalah 5.636,66 km2 atau 0,29% luas wilayah Negara Kesatuan Republik Indonesia. Secara administratif Provinsi Bali terbagi atas 8 kabupaten, 1 kotamadya, 55 kecamatan, dan 701 desa/kelurahan.\n",
            "\n",
            "Batas wilayah [ sunting | sunting sumber ]\n",
            "\n",
            "Jepang menduduki Bali selama Perang Dunia II dan saat itu seorang perwira militer bernama I Gusti Ngurah Rai membentuk pasukan Bali 'pejuang kemerdekaan'. Menyusul menyerahnya Jepang di Pasifik pada bulan Agustus 1945, Belanda segera kembali ke Indonesia (termasuk Bali) untuk menegakkan kembali pemerintahan kolonialnya layaknya keadaan sebelum perang. Hal ini ditentang oleh pasukan perlawanan Bali yang saat itu menggunakan senjata Jepang.\n",
            "\n",
            "Pada 20 November 1945, pecahlah pertempuran Puputan Margarana yang terjadi di desa Marga, Kabupaten Tabanan, Bali Tengah. Kolonel I Gusti Ngurah Rai yang berusia 29 tahun, memimpin tentaranya dari wilayah timur Bali untuk melakukan serangan sampai mati pada pasukan Belanda yang bersenjata lengkap. Seluruh anggota batalion Bali tersebut tewas semuanya dan menjadikannya sebagai perlawanan militer Bali yang terakhir.\n",
            "\n",
            "Pada tahun 1946, Belanda menjadikan Bali sebagai salah satu dari 13 wilayah bagian dari Negara Indonesia Timur yang baru diproklamasikan, yaitu sebagai salah satu negara saingan bagi Republik Indonesia yang diproklamasikan dan dikepalai oleh Sukarno dan Hatta. Bali kemudian juga dimasukkan ke dalam Republik Indonesia Serikat ketika Belanda mengakui kemerdekaan Indonesia pada 29 Desember 1949. Tahun 1950, secara resmi Bali meninggalkan perserikatannya dengan Belanda dan secara hukum menjadi sebuah provinsi dari Republik Indonesia.\n",
            "\n",
            "Letusan Gunung Agung yang terjadi pada tahun 1963, sempat mengguncangkan perekonomian rakyat dan menyebabkan banyak penduduk Bali bertransmigrasi ke berbagai wilayah lain di Indonesia.\n",
            "\n",
            "Tahun 1965, seiring dengan gagalnya kudeta oleh G30S terhadap pemerintah nasional di Jakarta, Bali dan banyak daerah lainnya, terjadilah penumpasan terhadap anggota dan simpatisan Partai Komunis Indonesia. Di Bali, diperkirakan lebih dari 100.000 orang terbunuh atau hilang. Meskipun demikian, kejadian-kejadian pada masa awal Orde Baru tersebut sampai dengan saat ini belum berhasil diungkapkan secara hukum.[11]\n",
            "\n",
            "Serangan teroris telah terjadi pada 12 Oktober 2002, berupa serangan Bom Bali 2002 di kawasan pariwisata Pantai Kuta, menyebabkan sebanyak 202 orang tewas dan 209 orang lainnya cedera. Serangan Bom Bali 2005 juga terjadi tiga tahun kemudian di Kuta dan pantai Jimbaran. Kejadian-kejadian tersebut mendapat liputan internasional yang luas karena sebagian besar korbannya adalah wisatawan asing dan menyebabkan industri pariwisata Bali menghadapi tantangan berat beberapa tahun terakhir ini.\n",
            "\n",
            "Kantor gubernur Bali\n",
            "\n",
            "Gubernur menjadi pejabat tertinggi di pemerintahan provinsi Bali. Gubernur Bali bertanggungjawab atas wilayah provinsi Bali. Saat ini, gubernur atau kepala daerah yang menjabat di provinsi Bali ialah I Wayan Koster, didampingi wakil gubernur Tjokorda Oka Artha Ardana Sukawati atau sering disapa Cok Ace. Mereka menang pada Pemilihan umum Gubernur Bali 2018. Wayan Koster merupakan gubernur Bali yang ke-9, sejak provinsi ini dibentuk menjadi provinsi Bali tahun 1959. Koster dan Cok Ace dilantik oleh presiden Republik Indonesia Joko Widodo, di Istana Negara Jakarta pada 5 September 2018, untuk masa jabatan 2018-2023.[12]\n",
            "\n",
            "Dewan Perwakilan Rakyat [ sunting | sunting sumber ]\n",
            "\n",
            "DPRD Bali beranggotakan 55 orang yang dipilih melalui pemilihan umum setiap lima tahun sekali. Pimpinan DPRD Bali terdiri dari 1 Ketua dan 3 Wakil Ketua yang berasal dari partai politik pemilik jumlah kursi dan suara terbanyak. Anggota DPRD Bali yang sedang menjabat saat ini adalah hasil Pemilu 2019 yang dilantik pada 2 September 2019 oleh Wakil Ketua Pengadilan Tinggi Denpasar, Ida Bagus Djagra, di Gedung DPRD Provinsi Bali. Komposisi anggota DPRD Bali periode 2019-2024 terdiri dari 7 partai politik di mana PDI Perjuangan adalah partai politik pemilik kursi terbanyak yaitu masing-masing 33 kursi.[13][14] Pada Pemilu 2014, DPRD Bali menempatkan 55 orang wakilnya yang tersebar di beberapa fraksi, dengan perolehan suara terbanyak diraih oleh Partai Demokrasi Indonesia Perjuangan.[15][16][17] Berikut ini adalah komposisi anggota DPRD Bali dalam tiga periode terakhir.[18][19][20][21][22]\n",
            "\n",
            "Partai Politik Jumlah Kursi dalam Periode 2009-2014[23] 2014-2019 2019-2024 Gerindra 2 7 6 PDI-P 24 33 Golkar 12 11 8 NasDem (baru) 2 PAN (baru) 1 Hanura Demokrat 10 8 4 PKPI (baru) 1 PNIM (baru) 1 PKPB (baru) 1 Pakar Pangan (baru) 1 PNBK (baru) 2 PSI (baru) 1 Jumlah Anggota 55 Jumlah Partai 10 8 7\n",
            "\n",
            "\n",
            "\n",
            "\n",
            "\n",
            "Dewan Perwakilan Daerah [ sunting | sunting sumber ]\n",
            "\n",
            "Empat anggota DPD (2019-2024) dari Provinsi Bali adalah;\n",
            "\n",
            "Berdasarkan hasil Pemilihan Umum Legislatif 2019, Bali mengirimkan sembilan anggota DPR ke DPR RI. Pada tingkat provinsi, DPRD Bali dengan 55 kursi tersedia dikuasai oleh PDI-P dengan 33 kursi, disusul Partai Golkar dengan 8 kursi, dan Partai Gerindra dengan 6 kursi.\n",
            "\n",
            "Daftar kabupaten dan kota di Bali [ sunting | sunting sumber ]\n",
            "\n",
            "\n",
            "\n",
            "\n",
            "\n",
            "Prosesi keagamaan umat Hindu di Bali\n",
            "\n",
            "Berdasarkan data Badan Pusat Statistik (BPS) provinsi Bali tahun 2021, penduduk Bali berjumlah 4.317.404 jiwa (2020) dengan mayoritas etnis Bali.[4] Data Kementerian Agama mencatat bahwa 86,91% warga provinsi Bali menganut agama Hindu. Agama lainnya adalah Islam (10,05%), Kristen Protestan (1,56%), Katolik (0,79%), Budha (0,68%), Konghucu (0,01%), dan Kepercayaan (kurang dari 0,01%).[5]\n",
            "\n",
            "Masyarakat suku Bali umumnya beragama Hindu. Sementara penduduk Jawa, Sunda, Sasak, Melayu, umumnya beragama Islam, dan beberapa orang asli suku Bali juga ada yang memeluk agama Islam.[26] Sementara pemeluk agama Kristen umumnya berasal dari penduduk Nusa Tenggara Timur, kemudian Papua, suku Batak, Minahasa, Tionghoa. Dan ada juga satu desa yakni desa Blimbing Sari di kecamatan Melaya Jembrana, tidak jauh dari Pelabuhan Gilimanuk, sebuah desa Kristen di mana warganya adalah asli suku Bali, bahkan gerejanya bentuknya mirip Pura.[27]\n",
            "\n",
            "Suku bangsa [ sunting | sunting sumber ]\n",
            "\n",
            "Pakaian adat pernikahan orang Bali\n",
            "\n",
            "Video Ogoh-ogoh di Kuta, Bali tahun 2018\n",
            "\n",
            "Festival 0goh-ogoh di Kuta tahun 2018\n",
            "\n",
            "Mayoritas penduduk yang mendiami provinsi Bali adalah suku asli setempat, yakni Bali. Suku Bali memiliki kekayaan budaya yang dikenal dunia, sehingga Bali menjadi tujuan utama wisatawan asing ke Indonesia. Selain kekayaan pantai, budaya yang diminati di Bali adalah tari-tariannya, seperti tari Kecak, festival seperti Ogoh-ogoh, dan lainnya. Suku terbanyak dari luar suku Bali adalah suku Jawa.\n",
            "\n",
            "Berdasarkan data dari Sensus Penduduk Indonesia 2010, berikut ini komposisi etnis atau suku bangsa di provinsi Bali:[28]\n",
            "\n",
            "No Suku Jumlah 2010 % 1 Bali 3.336.065 85,97% 2 Jawa 372.514 9,60% 3 Madura 29.864 0,77% 4 Melayu 22.926 0,59% 5 Sasak 22.672 0,58% 6 Asal NTT 19.698 0,51% 7 Tionghoa 14.970 0,38% 8 Sunda 11.630 0,30% 9 Bugis 9.287 0,24% 10 Batak 6.489 0,17% 11 Lainnya 34.609 0,89% Provinsi Bali 3.880.724 100%\n",
            "\n",
            "Selain dari sektor pariwisata, penduduk Bali juga hidup dari pertanian dan perikanan, yang paling dikenal dunia dari pertanian di Bali ialah sistem Subak. Sebagian juga memilih menjadi seniman. Bahasa yang digunakan di Bali adalah bahasa Indonesia, Bali dan Inggris khususnya bagi yang bekerja di sektor pariwisata.\n",
            "\n",
            "Bahasa Bali dan bahasa Indonesia adalah bahasa yang paling luas pemakaiannya di Bali dan sebagaimana penduduk Indonesia lainnya, sebagian besar masyarakat Bali adalah bilingual atau bahkan trilingual. Meskipun terdapat beberapa dialek dalam bahasa Bali, umumnya masyarakat Bali menggunakan sebentuk bahasa Bali pergaulan sebagai pilihan dalam berkomunikasi. Secara tradisi, penggunaan berbagai dialek bahasa Bali ditentukan berdasarkan sistem catur warna dalam agama Hindu Dharma dan keanggotan klan (istilah Bali: soroh, gotra); meskipun pelaksanaan tradisi tersebut cenderung berkurang. Di beberapa tempat di Bali ditemukan sejumlah pemakai bahasa Jawa.\n",
            "\n",
            "Bahasa Inggris adalah bahasa ketiga (dan bahasa asing utama) bagi banyak masyarakat Bali yang dipengaruhi oleh kebutuhan yang besar dari industri pariwisata. Para karyawan yang bekerja pada pusat-pusat informasi wisatawan di Bali, sering kali juga memahami beberapa bahasa asing dengan kompetensi yang cukup memadai. Bahasa Jepang juga menjadi prioritas pendidikan di Bali.\n",
            "\n",
            "Masyarakat Bali menggunakan bahasa Bali sebagai bahasa komunikasi antar sesama orang Bali selain bahasa Indonesia dan bahasa Inggris. Bahasa Bali merupakan subkelompok dari rumpun bahasa Austronesia Barat, dipergunakan oleh sekitar tiga juta penutur.[29] Bahasa Bali memiliki fungsi dan kedudukan yang penting dalam kehidupan masyarakat Bali terutama pada topik-topik pembicaraan yang bersifat tradisional seperti pembicaraan masalah adat (dalam rapat atau pertemuan yang disebut sangkep) kebudayaan dan agama (Hindu).[30]\n",
            "\n",
            "Bahasa Bali terdiri atas dua dialek:\n",
            "\n",
            "Dialek Bali Aga atau Bali Mula yang dituturkan oleh penduduk Bali di daerah dataran tinggi di Bali Dialek Bali Dataran yang dituturkan oleh penduduk yang pada umumnya berdiam di daerah dataran rendah di Bali.\n",
            "\n",
            "Masyarakat yang menggunakan dialek Bali Aga disebut masyarakat Bali Aga dan bermukim di wilayah pegunungan. Daerah pengguna dialek Bali Aga meliputi Kabupaten Karangasem, yaitu di Desa Tenganan, Kecamatan Manggis dan Desa Seraya, Kecamatan Karangasem; Kabupaten Bangli, yaitu di Desa Terunyan dan Kecamatan Kintamani; Kabupaten Klungkung, yaitu di Desa Klumpu, Kecamatan Nusa Penida; Kabupaten Badung bagian utara, yaitu di Kecamatan Ketihingan dan Petang; Kabupaten Tabanan, yaitu di Desa Wongaya Gede, Kecamatan Penebel; Kabupaten Buleleng, yaitu di Desa Sepang, Kecamatan Busung Biu; Kabupaten Jembrana, yaitu di Desa Nusasari, Kecamatan Melaya. Selain itu, bahasa Bali juga dituturkan di berbagai daerah lainnya di Indonesia, yakni di Nusa Tenggara Barat, Lampung, Sulawesi Tenggara, Jawa Timur dan Kalimantan Tengah khususnya di Kabupaten Kapuas.[31]\n",
            "\n",
            "Dialek Bali Dataran digunakan oleh masyarakat Bali yang bertempat tinggal di daerah pesisir atau dataran rendah di Bali, baik di bagian utara Bali maupun bagian selatan Bali. Dialek Bali Dataran menyebar hampir di seluruh wilayah di Bali. Adapun wilayah yang menggunakan dialek bali dataran seperti Kabupaten Klungkung dari wilayah utara di kecamatan Banjarangkan yaitu Desa Bumbungan; Kabupaten Jembrana, yaitu desa Pengragoan, kecamatan Pekutatan; Kabupaten Tabanan, yaitu di desa Bantas, kecamatan Selemadeg Timur dan desa Luwus, kecamatan Baturiti; Kabupaten Badung, yaitu di desa Baha, kecamatan Mengwi dan Desa Pecatu, Kecamatan Kuta Selatan; Kota Denpasar yaitu di Kampung Kepoan, Desa Pemogan, Kecamatan Denpasar Selatan; Kabupaten Gianyar, yaitu di Desa Pupuan, Kecamatan Tegalalang dan Desa Saba, Kecamatan Blahbatuh; Kabupaten Klungkung, yaitu di Kampung Toyapakeh, Kecamatan Nusa Penida dan Kampung Gelgel, Kecamatan Klungkung; Kabupaten Karangasem, yaitu di Desa Bebandem dan Kampung Kecicang Muslim, Desa Bungaya Kangin, Kecamatan Bebanden serta Desa Tianyar, Kecamatan Kubu; Kabupaten Bangli, yaitu di Desa Jehem, Kecamatan Tembuku; Kabupaten Buleleng, yaitu di Desa Bukti, Kecamatan Kubutambahan, Desa Pegayaman, Kecamatan Sukasada, Desa Kayu Putih, Kecamatan Banjar, dan Desa Banyupoh, Kecamatan Gerokgak.[31]\n",
            "\n",
            "Bahasa Bali mengenal sistem sor singgih atau tingkatan-tingkatan berbahasa terutama bahasa Bali Dataran karena mendapatkan pengaruh dari Jawa. Tingkatan-tingkatan berbahasa tersebut masih dipertahankan hingga kini oleh masyarakata Bali terutama dalam ranah-ranah tradisional. Sistem Pelapisan sosial masyarakat Bali yang dikenal dengan catur warna sangat besar pengaruhnya terhadap penggunaan Bahasa Bali. Masing-masing kelas sosial dalam masyarakat Bali akan menggunakan bahasa Bali sesuai dengan siapa yang diajak bicara. Seorang sudra akan berbicara dengan bahasa Bali halus kepada seseorang dari kasta brahmana.[31]\n",
            "\n",
            "Bahasa Bali terus mengalami perkembangan terutama bahasa Bali dataran yang disebut sebagai bahasa bali standar. Berdasarkan hasil keputusan Pesamuhan Agung Bahasa Bali yang diadakan tahun 1974 bahasa Bali standar atau baku digunakan oleh masyarakat Bali dalam sekolah-sekolah, pertemuan-pertemuan, surat menyurat, kesusastraan, media massa elektronik dan cetak, adat dan budaya. Bahasa Bali baku ini mengacu pada bahasa yang digunakan oleh masyarakat tutur bahasa Bali yang berdomisili di Klungkung dan kota Singaraja, hal ini disebabkan karena kedua wilayah ini cukup lama menjadi pusat kekuasaan politik, ekonomi dan kebudayaan Bali. Selain itu, bahasa Bali di kedua daerah tersebut memiliki ciri yang sama baik secara fonologis maupun sintaksis.[31]\n",
            "\n",
            "Terdapat perbedaan yang cukup kentara dari bahasa Bali yang dituturkan di luar Bali dengan yang dituturkan di daerah Bali dan dari dialek Bali Aga dengan dialek Bali Dataran. Berdasarkan perhitungan dialektometri, persentase perbedaan yang terukur antara dialek Bali Aga dengan dialek Bali Dataran adalah sebesar 60%. Jika ditinjau lebih luas lagi terhadap daerah luar Bali, isolek Bali yang berada di pulau Bali memiliki perbedaan sebesar 71,75% dengan bahasa Bali di Nusa Tenggara Barat; sebesar 69,5% jika dibandingkan dengan bahasa Bali di Jawa Timur; sebesar 77,5% jika dibandingkan dengan bahasa Bali di Lampung; dan sebesar 76,75% jika dibandingkan dengan bahasa Bali di Sulawesi Tenggara.[31]\n",
            "\n",
            "Persawahan Jatiwulih yang masuk UNESCO di Tabanan, Bali.\n",
            "\n",
            "Tiga dekade lalu, perekonomian Bali sebagian besar mengandalkan dan berbasis pada pertanian baik dari segi output dan kesempatan kerja. Sekarang, industri pariwisata menjadi objek pendapatan terbesar bagi Bali. Hasilnya, Bali menjadi salah satu daerah terkaya di Indonesia. Pada tahun 2003, sekitar 80% perekonomian Bali bergantung pada industri pariwisata. Pada akhir Juni 2011, non-performing loan dari semua bank di Bali adalah 2,23%, lebih rendah dari rata-rata non-performing loan industri perbankan Indonesia (sekitar 5%). Ekonomi, bagaimanapun menderita secara signifikan sebagai akibat dari Bom Bali 2002 dan Bom Bali 2005. Industri pariwisata sendiri telah pulih dari akibat peristiwa ini. Pasca terjadinya Pandemi Covid-19 akhir tahun 2019, perekonomian Bali yang didominasi sektor Pariwisata, mengalami penurunan. Akan tetapi, sektor pertanian menjadi salah satu penopang utama perekonomian di provinsi Bali.[32]\n",
            "\n",
            "Bali adalah primadona pariwisata Indonesia yang sudah terkenal di seluruh dunia. Selain terkenal dengan keindahan alam, terutama pantainya, Bali juga terkenal dengan kesenian dan budayanya yang unik dan menarik. Industri pariwisata berpusat di Bali Selatan dan di beberapa daerah lainnya. Lokasi wisata yang utama adalah Kuta dan sekitarnya seperti Legian dan Seminyak, daerah timur kota seperti Sanur, pusat kota seperti Ubud, dan di daerah selatan seperti Jimbaran, Nusa Dua dan Pecatu.[33]\n",
            "\n",
            "Bali sebagai tempat tujuan wisata yang lengkap dan terpadu memiliki banyak sekali tempat wisata menarik, antara lain: Pantai Kuta, Pura Tanah Lot, Pantai Padang–Padang, Danau Beratan Bedugul, Garuda Wisnu Kencana (GWK), Pantai Lovina dengan Lumba Lumbanya, Pura Besakih, Uluwatu, Ubud, Munduk, Kintamani, Amed, Tulamben, Pulau Menjangan dan masih banyak yang lainnya. Kini, Bali juga memiliki beberapa pusat wisata yang sarat edukasi untuk anak-anak seperti kebun binatang, museum tiga dimensi, taman bermain air, dan tempat penangkaran kura-kura.[33]\n",
            "\n",
            "Bali tidak memiliki jaringan rel kereta api namun jaringan jalan yang ada di pulau ini tergolong sangat baik dibanding daerah-daerah lain di Indonesia, jaringan jalan tersedia dengan baik khususnya ke daerah-daerah tujuan wisatawan yakni Legian, Kuta, Sanur, Nusa Dua, Ubud, dll. Sebagian besar penduduk memiliki kendaraan pribadi dan memilih menggunakannya karena moda transportasi umum tidak tersedia dengan baik, kecuali taksi dan angkutan pariwisata. Moda transportasi massal saat ini disiapkan agar Bali mampu memberi kenyamanan lebih terhadap para wisatawan. Baru-baru ini untuk melayani kebutuhan transportasi massal yang layak di pulau Bali diluncurkan Trans Sarbagita (Trans Denpasar, Badung, Gianyar, Tabanan) menggunakan bus besar dengan fasilitas AC dengan tarif Rp 3.500.\n",
            "\n",
            "Sampai sekarang, transportasi di Bali umumnya dibangun di Bali bagian selatan sekitar Denpasar, Kuta, Nusa Dua, dan Sanur sedangkan wilayah utara kurang memiliki akomodasi yang baik.\n",
            "\n",
            "Jenis kendaraan umum di Bali atara lain:\n",
            "\n",
            "Dokar, kendaraan dengan menggunakan kuda sebagai penarik dikenal sebagai delman di tempat lain.\n",
            "\n",
            "Ojek, taksi sepeda motor (sebagian sudah berbasis di intenet).\n",
            "\n",
            "Bemo/angkot, melayani dalam dan antarkota.\n",
            "\n",
            "Bus Trans Sarbagita (Koridor 1 < Kota–Garuda Wisnu Kencana (GWK) >) dan (Koridor 2 < Nusa Dua–Batubulan>).\n",
            "\n",
            "Taksi (sebagian sudah mempunyai aplikasi di smartphone ).\n",
            "\n",
            "). Komotra, bus yang melayani perjalanan ke kawasan pantai Kuta dan sekitarnya.\n",
            "\n",
            "Bus, melayani hubungan antarkota, pedesaan, dan antarprovinsi.\n",
            "\n",
            "Bali terhubung dengan pulau Jawa dengan layanan kapal feri yang menghubungkan Pelabuhan Gilimanuk di kabupaten Jembrana dengan Pelabuhan Ketapang di Kabupaten Banyuwangi yang lama tempuhnya sekitar 30 hingga 45 menit saja. Penyeberangan ke Pulau Lombok melalui Pelabuhan Padangbai menuju Pelabuhan Lembar yang memakan waktu sekitar empat sampai lima jam lamanya tergantung cuaca.\n",
            "\n",
            "Transportasi udara dilayani oleh Bandara Internasional Ngurah Rai dengan destinasi ke sejumlah kota besar di Indonesia, Australia, Singapura, Malaysia, Thailand, Timor Leste, RRC serta Jepang. Landas pacu dan pesawat terbang yang datang dan pergi bisa terlihat dengan jelas dari pantai dan menjadi semacam hiburan tambahan bagi para wisatawan yang menikmati pantai Bali.\n",
            "\n",
            "Untuk transportasi darat antar pulau di bali ada terminal Ubung-Denpasar dan terminal Mengwi yang menghubungkan pulau Bali dengan Pulau Jawa dan Pulau Lombok. Terminal Ubung di pulau Bali ini melayani berbagai rute antar pulau tujuan Jakarta, Bandung, Semarang, Yogyakarta, Surabaya, Malang, Madura, Jember, dll. Angkutan antar pulau dilayani oleh armada bus besar dengan kelas ekonomi, bisnis dan eksekutif. Terminal Ubung relatif ramai mulai pukul 15.00–18.00 WITA karena pada jam tersebut banyak bus yang mulai berangkat ke kota tujuan masing-masing. Bagi anda yang datang ke terminal ini harap waspada karena banyak calo tiket yang agak memaksa penumpang.\n",
            "\n",
            "Rumah Adat [ sunting | sunting sumber ]\n",
            "\n",
            "Bangunan khas Bali\n",
            "\n",
            "Rumah Bali yang sesuai dengan aturan Asta Kosala Kosali (bagian Weda yang mengatur tata letak ruangan dan bangunan).\n",
            "\n",
            "Menurut filosofi masyarakat Bali, kedinamisan dalam hidup akan tercapai apabila terwujudnya hubungan yang harmonis antara aspek pawongan, palemahan dan parahyangan. Untuk itu pembangunan sebuah rumah harus meliputi aspek-aspek tersebut atau yang biasa disebut Tri Hita Karana. Pawongan merupakan para penghuni rumah. Palemahan berarti harus ada hubungan yang baik antara penghuni rumah dan lingkungannya.\n",
            "\n",
            "Pada umumnya bangunan atau arsitektur tradisional daerah Bali selalu dipenuhi hiasan, berupa ukiran, peralatan serta pemberian warna. Ragam hias tersebut mengandung arti tertentu sebagai ungkapan keindahan simbol-simbol dan penyampaian komunikasi. Bentuk-bentuk ragam hias dari jenis fauna juga berfungsi sebagai simbol-simbol ritual yang ditampilkan dalam patung.\n",
            "\n",
            "Seperangkat gamelan Bali.\n",
            "\n",
            "Musik tradisional Bali memiliki kesamaan dengan musik tradisional di banyak daerah lainnya di Indonesia, misalnya dalam penggunaan gamelan dan berbagai alat musik tabuh lainnya. Meskipun demikian, terdapat kekhasan dalam teknik memainkan dan gubahannya, misalnya dalam bentuk kecak, yaitu sebentuk nyanyian yang konon menirukan suara kera. Demikian pula beragam gamelan yang dimainkan, misalnya gamelan jegog, gamelan gong gede(gamelan jawa kuno), gamelan gambang, gamelan selunding dan gamelan Semar Pegulingan. Ada pula musik Angklung dimainkan untuk upacara ngaben serta musik Bebonangan dimainkan dalam berbagai upacara lainnya.\n",
            "\n",
            "Terdapat bentuk modern dari musik tradisional Bali, misalnya Gamelan Gong Kebyar yang merupakan musik tarian yang dikembangkan pada masa penjajahan Belanda serta Joged Bumbung yang mulai populer di Bali sejak era tahun 1950-an. Umumnya musik Bali merupakan kombinasi dari berbagai alat musik perkusi metal (metalofon), gong dan perkusi kayu (xilofon). Karena hubungan sosial, politik dan budaya, musik tradisional Bali atau permainan gamelan gaya Bali memberikan pengaruh atau saling memengaruhi daerah budaya di sekitarnya, misalnya pada musik tradisional masyarakat Banyuwangi serta musik tradisional masyarakat Lombok.\n",
            "\n",
            "2.000 peserta Tari Tenun, pada acara Petitenget Festival, di pantai Petitenget, 16 September 2018\n",
            "\n",
            "Seni tari Bali pada umumnya dapat dikategorikan menjadi tiga kelompok, yaitu wali atau seni tari pertunjukan sakral, bebali atau seni tari pertunjukan untuk upacara dan juga untuk pengunjung dan balih-balihan atau seni tari untuk hiburan pengunjung.[34]\n",
            "\n",
            "Pakar seni tari Bali I Made Bandem[35] pada awal tahun 1980-an pernah menggolongkan tari-tarian Bali tersebut; antara lain yang tergolong ke dalam wali misalnya Berutuk, Sang Hyang Dedari, Rejang dan Baris Gede, bebali antara lain ialah Gambuh, Topeng Pajegan dan Wayang Wong, sedangkan balih-balihan antara lain ialah Legong, Parwa, Arja, Prembon dan Joged serta berbagai koreografi tari modern lainnya.\n",
            "\n",
            "Salah satu tarian yang sangat populer bagi para wisatawan ialah Tari Kecak dan Tari Pendet. Sekitar tahun 1930-an, Wayan Limbak bekerja sama dengan pelukis Jerman Walter Spies menciptakan tari Kecak berdasarkan tradisi Sang Hyang dan bagian-bagian kisah Ramayana. Wayan Limbak memopulerkan tari ini saat berkeliling dunia bersama rombongan penari Bali-nya.\n",
            "\n",
            "Tarian wali [ sunting | sunting sumber ]\n",
            "\n",
            "Sang Hyang Dedari\n",
            "\n",
            "Sang Hyang Jaran\n",
            "\n",
            "Tari Rejang\n",
            "\n",
            "Tari Baris\n",
            "\n",
            "Tarian bebali [ sunting | sunting sumber ]\n",
            "\n",
            "Pakaian daerah [ sunting | sunting sumber ]\n",
            "\n",
            "Pakaian daerah Bali sesungguhnya sangat bervariasi, meskipun secara selintas kelihatannya sama. Masing-masing daerah di Bali mempunyai ciri khas simbolik dan ornamen, berdasarkan kegiatan/upacara, jenis kelamin dan umur penggunanya. Status sosial dan ekonomi seseorang dapat diketahui berdasarkan corak busana dan ornamen perhiasan yang dipakainya.\n",
            "\n",
            "Anak-anak Ubud mengenakan udeng, kemeja putih dan kain.\n",
            "\n",
            "Busana tradisional pria umumnya terdiri dari:\n",
            "\n",
            "Udeng (ikat kepala)\n",
            "\n",
            "Kain kampuh\n",
            "\n",
            "Umpal (selendang pengikat)\n",
            "\n",
            "Kain wastra (kemben)\n",
            "\n",
            "Sabuk\n",
            "\n",
            "Keris\n",
            "\n",
            "Beragam ornamen perhiasan\n",
            "\n",
            "Sering pula dikenakan baju kemeja, jas dan alas kaki sebagai pelengkap.\n",
            "\n",
            "Para penari cilik mengenakan gelung, songket dan kain prada.\n",
            "\n",
            "Busana tradisional wanita umumnya terdiri dari:\n",
            "\n",
            "Gelung (sanggul)\n",
            "\n",
            "Sesenteng (kemben songket)\n",
            "\n",
            "Kain wastra\n",
            "\n",
            "Sabuk prada (stagen), membelit pinggul dan dada\n",
            "\n",
            "Selendang songket bahu ke bawah\n",
            "\n",
            "Kain tapih atau sinjang, di sebelah dalam\n",
            "\n",
            "Beragam ornamen perhiasan\n",
            "\n",
            "Sering pula dikenakan kebaya, kain penutup dada, dan alas kaki sebagai pelengkap.\n",
            "\n",
            "Makanan utama [ sunting | sunting sumber ]\n",
            "\n",
            "Provinsi Bali memiliki beragam kuliner khas Bali. Berbagai makanan olahan daging ayam dan babi, mendominasi kuliner di Bali. Makanan yang terkenal berasa dari Bali termasuk Ayam betutu dan Babi guling.[36]\n",
            "\n",
            "Bubuh Sagu\n",
            "\n",
            "Bubuh Sumsum\n",
            "\n",
            "Bubuh Tuak\n",
            "\n",
            "Jaja Batun Duren\n",
            "\n",
            "Jaja Begina\n",
            "\n",
            "Jaja Bendu\n",
            "\n",
            "Jaja Bikang\n",
            "\n",
            "Jaja Engol\n",
            "\n",
            "Jaja Lukis\n",
            "\n",
            "Jaja Godoh\n",
            "\n",
            "Jaja Jongkong\n",
            "\n",
            "Jaja Ketimus\n",
            "\n",
            "Jaja Klepon\n",
            "\n",
            "Jaja Lak-Lak\n",
            "\n",
            "Jaja Sumping\n",
            "\n",
            "Jaja Tain Buati\n",
            "\n",
            "Jaja Uli misi Tape\n",
            "\n",
            "Jaja Giling\n",
            "\n",
            "Jaja Wajik\n",
            "\n",
            "Rujak Bulung\n",
            "\n",
            "Rujak Kuah Pindang\n",
            "\n",
            "Rujak Manis\n",
            "\n",
            "Rujak Tibah\n",
            "\n",
            "Jaja Abug\n",
            "\n",
            "Jaja Lempog\n",
            "\n",
            "Jaja Baro-Baro\n",
            "\n",
            "Salah satu senjata yang digunakan di Bali ialah Blakas. Blakas merupakan senjata tajam mirip pisau daging dari Bali, Indonesia yang memiliki bilah berbentuk persegi empat dengan mata pisau lurus.[37]\n",
            "\n",
            "Pahlawan Nasional [ sunting | sunting sumber ]\n",
            "\n",
            "Dinas pendidikan provinsi Bali menerima penghargaan terbaik pertama dalam ajang pengelola PIP dikdasmen kategori dinas pendidikan provinsi.[38]\n",
            "\n",
            "Dalam budaya populer [ sunting | sunting sumber ]\n",
            "\n",
            "Lihat pula [ sunting | sunting sumber ]\n",
            "\n",
            "Pranala luar [ sunting | sunting sumber ]\n",
            "\n",
            "Koordinat:\n"
          ]
        }
      ],
      "source": [
        "print(corpus)"
      ]
    },
    {
      "cell_type": "code",
      "execution_count": null,
      "metadata": {
        "id": "2HtwlNRpyOvv"
      },
      "outputs": [],
      "source": [
        "text = corpus\n",
        "sentence_list = nltk.sent_tokenize(text)"
      ]
    },
    {
      "cell_type": "code",
      "execution_count": null,
      "metadata": {
        "colab": {
          "base_uri": "https://localhost:8080/"
        },
        "id": "psxJAt4syY7S",
        "outputId": "f33cc50b-2e73-4858-bd4e-592dff69e8ca"
      },
      "outputs": [
        {
          "name": "stdout",
          "output_type": "stream",
          "text": [
            "['Halaman ini berisi artikel tentang Provinsi Bali.', 'Untuk kegunaan lain, lihat Bali (disambiguasi)\\n\\nArtikel ini bukan mengenai Pulau Bali\\n\\nBali (Bali: ᬩᬮᬶ) adalah sebuah wilayah provinsi yang terletak di Indonesia.', 'Ibu kotanya adalah Denpasar.', 'Provinsi Bali terletak di bagian barat Kepulauan Nusa Tenggara.', 'Di awal kemerdekaan Indonesia, pulau ini termasuk dalam Provinsi Sunda Kecil yang beribu kota di Singaraja, dan kini terbagi menjadi 3 provinsi, yakni Bali, Nusa Tenggara Barat, dan Nusa Tenggara Timur .', '[9][10] Pada tahun 2020, penduduk provinsi Bali berjumlah 4.317.404 jiwa, dengan kepadatan 747 jiwa/km2.', '[4]\\n\\nSelain terdiri dari pulau Bali, wilayah provinsi Bali juga terdiri dari pulau-pulau yang lebih kecil di sekitarnya, yaitu pulau Nusa Penida, pulau Nusa Lembongan, pulau Nusa Ceningan, Pulau Serangan, dan Pulau Menjangan.', 'Secara geografis, Bali terletak di antara Pulau Jawa dan Pulau Lombok.', 'Mayoritas penduduk Bali adalah pemeluk agama Hindu.', '[5] Di dunia, Bali terkenal sebagai tujuan pariwisata dengan keunikan berbagai hasil seni-budayanya, khususnya bagi para wisatawan Jepang dan Australia.', 'Bali juga dikenal dengan julukan Pulau Dewata dan Pulau Seribu Pura.', 'Peta Provinsi Bali\\n\\nPeta Administrasi Provinsi Bali\\n\\nPulau Bali adalah bagian dari Kepulauan Sunda Kecil sepanjang 153 km dan selebar 112 km sekitar 3,2 km dari Pulau Jawa.', 'Secara geografis, Bali terletak di 8°25′23″ Lintang Selatan dan 115°14′55″ Bujur Timur yang membuatnya beriklim tropis seperti bagian Indonesia yang lain.', 'Gunung Agung adalah titik tertinggi di Bali setinggi 3.148 m. Gunung berapi ini terakhir meletus pada Maret 1963.', 'Gunung Batur juga salah satu gunung yang ada di Bali.', 'Sekitar 30.000 tahun yang lalu, Gunung Batur meletus dan menghasilkan bencana yang dahsyat di bumi.', 'Berbeda dengan di bagian utara, bagian selatan Bali adalah dataran rendah yang dialiri sungai-sungai.', 'Berdasarkan relief dan topografi, di tengah-tengah Pulau Bali terbentang pegunungan yang memanjang dari barat ke timur dan di antara pegunungan tersebut terdapat gugusan gunung berapi yaitu Gunung Batur dan Gunung Agung serta gunung yang tidak berapi, yaitu Gunung Merbuk, Gunung Patas dan Gunung Seraya.', 'Adanya pegunungan tersebut menyebabkan Daerah Bali secara Geografis terbagi menjadi 2 (dua) bagian yang tidak sama yaitu Bali Utara dengan dataran rendah yang sempit dan kurang landai dan Bali Selatan dengan dataran rendah yang luas dan landai.', 'Kemiringan lahan Pulau Bali terdiri dari lahan datar (0-2%) seluas 122.652 ha, lahan bergelombang (2-15%) seluas 118.339 ha, lahan curam (15-40%) seluas 190.486 ha dan lahan sangat curam (>40%) seluas 132.189 ha.', 'Provinsi Bali memiliki 4 (empat) buah danau yang berlokasi di daerah pegunungan, yaitu Danau Beratan atau Bedugul, Buyan, Tamblingan, dan Batur.', 'Alam Bali yang indah menjadikan pulau Bali terkenal sebagai daerah wisata.', 'Ibu kota Bali adalah Denpasar.', 'Tempat-tempat penting lainnya adalah Ubud sebagai pusat kesenian dan peristirahatan, terletak di Kabupaten Gianyar.', 'Nusa Lembongan adalah sebagai salah satu tempat menyelam (diving), terletak di Kabupaten Klungkung.', 'Sedangkan Kuta, Seminyak, Jimbaran dan Nusa Dua adalah beberapa tempat yang menjadi tujuan utama pariwisata, baik wisata pantai maupun tempat peristirahatan, spa, dan lain-lain, terletak di Kabupaten Badung.', 'Luas wilayah Provinsi Bali adalah 5.636,66 km2 atau 0,29% luas wilayah Negara Kesatuan Republik Indonesia.', 'Secara administratif Provinsi Bali terbagi atas 8 kabupaten, 1 kotamadya, 55 kecamatan, dan 701 desa/kelurahan.', \"Batas wilayah [ sunting | sunting sumber ]\\n\\nJepang menduduki Bali selama Perang Dunia II dan saat itu seorang perwira militer bernama I Gusti Ngurah Rai membentuk pasukan Bali 'pejuang kemerdekaan'.\", 'Menyusul menyerahnya Jepang di Pasifik pada bulan Agustus 1945, Belanda segera kembali ke Indonesia (termasuk Bali) untuk menegakkan kembali pemerintahan kolonialnya layaknya keadaan sebelum perang.', 'Hal ini ditentang oleh pasukan perlawanan Bali yang saat itu menggunakan senjata Jepang.', 'Pada 20 November 1945, pecahlah pertempuran Puputan Margarana yang terjadi di desa Marga, Kabupaten Tabanan, Bali Tengah.', 'Kolonel I Gusti Ngurah Rai yang berusia 29 tahun, memimpin tentaranya dari wilayah timur Bali untuk melakukan serangan sampai mati pada pasukan Belanda yang bersenjata lengkap.', 'Seluruh anggota batalion Bali tersebut tewas semuanya dan menjadikannya sebagai perlawanan militer Bali yang terakhir.', 'Pada tahun 1946, Belanda menjadikan Bali sebagai salah satu dari 13 wilayah bagian dari Negara Indonesia Timur yang baru diproklamasikan, yaitu sebagai salah satu negara saingan bagi Republik Indonesia yang diproklamasikan dan dikepalai oleh Sukarno dan Hatta.', 'Bali kemudian juga dimasukkan ke dalam Republik Indonesia Serikat ketika Belanda mengakui kemerdekaan Indonesia pada 29 Desember 1949.', 'Tahun 1950, secara resmi Bali meninggalkan perserikatannya dengan Belanda dan secara hukum menjadi sebuah provinsi dari Republik Indonesia.', 'Letusan Gunung Agung yang terjadi pada tahun 1963, sempat mengguncangkan perekonomian rakyat dan menyebabkan banyak penduduk Bali bertransmigrasi ke berbagai wilayah lain di Indonesia.', 'Tahun 1965, seiring dengan gagalnya kudeta oleh G30S terhadap pemerintah nasional di Jakarta, Bali dan banyak daerah lainnya, terjadilah penumpasan terhadap anggota dan simpatisan Partai Komunis Indonesia.', 'Di Bali, diperkirakan lebih dari 100.000 orang terbunuh atau hilang.', 'Meskipun demikian, kejadian-kejadian pada masa awal Orde Baru tersebut sampai dengan saat ini belum berhasil diungkapkan secara hukum.', '[11]\\n\\nSerangan teroris telah terjadi pada 12 Oktober 2002, berupa serangan Bom Bali 2002 di kawasan pariwisata Pantai Kuta, menyebabkan sebanyak 202 orang tewas dan 209 orang lainnya cedera.', 'Serangan Bom Bali 2005 juga terjadi tiga tahun kemudian di Kuta dan pantai Jimbaran.', 'Kejadian-kejadian tersebut mendapat liputan internasional yang luas karena sebagian besar korbannya adalah wisatawan asing dan menyebabkan industri pariwisata Bali menghadapi tantangan berat beberapa tahun terakhir ini.', 'Kantor gubernur Bali\\n\\nGubernur menjadi pejabat tertinggi di pemerintahan provinsi Bali.', 'Gubernur Bali bertanggungjawab atas wilayah provinsi Bali.', 'Saat ini, gubernur atau kepala daerah yang menjabat di provinsi Bali ialah I Wayan Koster, didampingi wakil gubernur Tjokorda Oka Artha Ardana Sukawati atau sering disapa Cok Ace.', 'Mereka menang pada Pemilihan umum Gubernur Bali 2018.', 'Wayan Koster merupakan gubernur Bali yang ke-9, sejak provinsi ini dibentuk menjadi provinsi Bali tahun 1959.', 'Koster dan Cok Ace dilantik oleh presiden Republik Indonesia Joko Widodo, di Istana Negara Jakarta pada 5 September 2018, untuk masa jabatan 2018-2023.', '[12]\\n\\nDewan Perwakilan Rakyat [ sunting | sunting sumber ]\\n\\nDPRD Bali beranggotakan 55 orang yang dipilih melalui pemilihan umum setiap lima tahun sekali.', 'Pimpinan DPRD Bali terdiri dari 1 Ketua dan 3 Wakil Ketua yang berasal dari partai politik pemilik jumlah kursi dan suara terbanyak.', 'Anggota DPRD Bali yang sedang menjabat saat ini adalah hasil Pemilu 2019 yang dilantik pada 2 September 2019 oleh Wakil Ketua Pengadilan Tinggi Denpasar, Ida Bagus Djagra, di Gedung DPRD Provinsi Bali.', 'Komposisi anggota DPRD Bali periode 2019-2024 terdiri dari 7 partai politik di mana PDI Perjuangan adalah partai politik pemilik kursi terbanyak yaitu masing-masing 33 kursi.', '[13][14] Pada Pemilu 2014, DPRD Bali menempatkan 55 orang wakilnya yang tersebar di beberapa fraksi, dengan perolehan suara terbanyak diraih oleh Partai Demokrasi Indonesia Perjuangan.', '[15][16][17] Berikut ini adalah komposisi anggota DPRD Bali dalam tiga periode terakhir.', '[18][19][20][21][22]\\n\\nPartai Politik Jumlah Kursi dalam Periode 2009-2014[23] 2014-2019 2019-2024 Gerindra 2 7 6 PDI-P 24 33 Golkar 12 11 8 NasDem (baru) 2 PAN (baru) 1 Hanura Demokrat 10 8 4 PKPI (baru) 1 PNIM (baru) 1 PKPB (baru) 1 Pakar Pangan (baru) 1 PNBK (baru) 2 PSI (baru) 1 Jumlah Anggota 55 Jumlah Partai 10 8 7\\n\\n\\n\\n\\n\\nDewan Perwakilan Daerah [ sunting | sunting sumber ]\\n\\nEmpat anggota DPD (2019-2024) dari Provinsi Bali adalah;\\n\\nBerdasarkan hasil Pemilihan Umum Legislatif 2019, Bali mengirimkan sembilan anggota DPR ke DPR RI.', 'Pada tingkat provinsi, DPRD Bali dengan 55 kursi tersedia dikuasai oleh PDI-P dengan 33 kursi, disusul Partai Golkar dengan 8 kursi, dan Partai Gerindra dengan 6 kursi.', 'Daftar kabupaten dan kota di Bali [ sunting | sunting sumber ]\\n\\n\\n\\n\\n\\nProsesi keagamaan umat Hindu di Bali\\n\\nBerdasarkan data Badan Pusat Statistik (BPS) provinsi Bali tahun 2021, penduduk Bali berjumlah 4.317.404 jiwa (2020) dengan mayoritas etnis Bali.', '[4] Data Kementerian Agama mencatat bahwa 86,91% warga provinsi Bali menganut agama Hindu.', 'Agama lainnya adalah Islam (10,05%), Kristen Protestan (1,56%), Katolik (0,79%), Budha (0,68%), Konghucu (0,01%), dan Kepercayaan (kurang dari 0,01%).', '[5]\\n\\nMasyarakat suku Bali umumnya beragama Hindu.', 'Sementara penduduk Jawa, Sunda, Sasak, Melayu, umumnya beragama Islam, dan beberapa orang asli suku Bali juga ada yang memeluk agama Islam.', '[26] Sementara pemeluk agama Kristen umumnya berasal dari penduduk Nusa Tenggara Timur, kemudian Papua, suku Batak, Minahasa, Tionghoa.', 'Dan ada juga satu desa yakni desa Blimbing Sari di kecamatan Melaya Jembrana, tidak jauh dari Pelabuhan Gilimanuk, sebuah desa Kristen di mana warganya adalah asli suku Bali, bahkan gerejanya bentuknya mirip Pura.', '[27]\\n\\nSuku bangsa [ sunting | sunting sumber ]\\n\\nPakaian adat pernikahan orang Bali\\n\\nVideo Ogoh-ogoh di Kuta, Bali tahun 2018\\n\\nFestival 0goh-ogoh di Kuta tahun 2018\\n\\nMayoritas penduduk yang mendiami provinsi Bali adalah suku asli setempat, yakni Bali.', 'Suku Bali memiliki kekayaan budaya yang dikenal dunia, sehingga Bali menjadi tujuan utama wisatawan asing ke Indonesia.', 'Selain kekayaan pantai, budaya yang diminati di Bali adalah tari-tariannya, seperti tari Kecak, festival seperti Ogoh-ogoh, dan lainnya.', 'Suku terbanyak dari luar suku Bali adalah suku Jawa.', 'Berdasarkan data dari Sensus Penduduk Indonesia 2010, berikut ini komposisi etnis atau suku bangsa di provinsi Bali:[28]\\n\\nNo Suku Jumlah 2010 % 1 Bali 3.336.065 85,97% 2 Jawa 372.514 9,60% 3 Madura 29.864 0,77% 4 Melayu 22.926 0,59% 5 Sasak 22.672 0,58% 6 Asal NTT 19.698 0,51% 7 Tionghoa 14.970 0,38% 8 Sunda 11.630 0,30% 9 Bugis 9.287 0,24% 10 Batak 6.489 0,17% 11 Lainnya 34.609 0,89% Provinsi Bali 3.880.724 100%\\n\\nSelain dari sektor pariwisata, penduduk Bali juga hidup dari pertanian dan perikanan, yang paling dikenal dunia dari pertanian di Bali ialah sistem Subak.', 'Sebagian juga memilih menjadi seniman.', 'Bahasa yang digunakan di Bali adalah bahasa Indonesia, Bali dan Inggris khususnya bagi yang bekerja di sektor pariwisata.', 'Bahasa Bali dan bahasa Indonesia adalah bahasa yang paling luas pemakaiannya di Bali dan sebagaimana penduduk Indonesia lainnya, sebagian besar masyarakat Bali adalah bilingual atau bahkan trilingual.', 'Meskipun terdapat beberapa dialek dalam bahasa Bali, umumnya masyarakat Bali menggunakan sebentuk bahasa Bali pergaulan sebagai pilihan dalam berkomunikasi.', 'Secara tradisi, penggunaan berbagai dialek bahasa Bali ditentukan berdasarkan sistem catur warna dalam agama Hindu Dharma dan keanggotan klan (istilah Bali: soroh, gotra); meskipun pelaksanaan tradisi tersebut cenderung berkurang.', 'Di beberapa tempat di Bali ditemukan sejumlah pemakai bahasa Jawa.', 'Bahasa Inggris adalah bahasa ketiga (dan bahasa asing utama) bagi banyak masyarakat Bali yang dipengaruhi oleh kebutuhan yang besar dari industri pariwisata.', 'Para karyawan yang bekerja pada pusat-pusat informasi wisatawan di Bali, sering kali juga memahami beberapa bahasa asing dengan kompetensi yang cukup memadai.', 'Bahasa Jepang juga menjadi prioritas pendidikan di Bali.', 'Masyarakat Bali menggunakan bahasa Bali sebagai bahasa komunikasi antar sesama orang Bali selain bahasa Indonesia dan bahasa Inggris.', 'Bahasa Bali merupakan subkelompok dari rumpun bahasa Austronesia Barat, dipergunakan oleh sekitar tiga juta penutur.', '[29] Bahasa Bali memiliki fungsi dan kedudukan yang penting dalam kehidupan masyarakat Bali terutama pada topik-topik pembicaraan yang bersifat tradisional seperti pembicaraan masalah adat (dalam rapat atau pertemuan yang disebut sangkep) kebudayaan dan agama (Hindu).', '[30]\\n\\nBahasa Bali terdiri atas dua dialek:\\n\\nDialek Bali Aga atau Bali Mula yang dituturkan oleh penduduk Bali di daerah dataran tinggi di Bali Dialek Bali Dataran yang dituturkan oleh penduduk yang pada umumnya berdiam di daerah dataran rendah di Bali.', 'Masyarakat yang menggunakan dialek Bali Aga disebut masyarakat Bali Aga dan bermukim di wilayah pegunungan.', 'Daerah pengguna dialek Bali Aga meliputi Kabupaten Karangasem, yaitu di Desa Tenganan, Kecamatan Manggis dan Desa Seraya, Kecamatan Karangasem; Kabupaten Bangli, yaitu di Desa Terunyan dan Kecamatan Kintamani; Kabupaten Klungkung, yaitu di Desa Klumpu, Kecamatan Nusa Penida; Kabupaten Badung bagian utara, yaitu di Kecamatan Ketihingan dan Petang; Kabupaten Tabanan, yaitu di Desa Wongaya Gede, Kecamatan Penebel; Kabupaten Buleleng, yaitu di Desa Sepang, Kecamatan Busung Biu; Kabupaten Jembrana, yaitu di Desa Nusasari, Kecamatan Melaya.', 'Selain itu, bahasa Bali juga dituturkan di berbagai daerah lainnya di Indonesia, yakni di Nusa Tenggara Barat, Lampung, Sulawesi Tenggara, Jawa Timur dan Kalimantan Tengah khususnya di Kabupaten Kapuas.', '[31]\\n\\nDialek Bali Dataran digunakan oleh masyarakat Bali yang bertempat tinggal di daerah pesisir atau dataran rendah di Bali, baik di bagian utara Bali maupun bagian selatan Bali.', 'Dialek Bali Dataran menyebar hampir di seluruh wilayah di Bali.', 'Adapun wilayah yang menggunakan dialek bali dataran seperti Kabupaten Klungkung dari wilayah utara di kecamatan Banjarangkan yaitu Desa Bumbungan; Kabupaten Jembrana, yaitu desa Pengragoan, kecamatan Pekutatan; Kabupaten Tabanan, yaitu di desa Bantas, kecamatan Selemadeg Timur dan desa Luwus, kecamatan Baturiti; Kabupaten Badung, yaitu di desa Baha, kecamatan Mengwi dan Desa Pecatu, Kecamatan Kuta Selatan; Kota Denpasar yaitu di Kampung Kepoan, Desa Pemogan, Kecamatan Denpasar Selatan; Kabupaten Gianyar, yaitu di Desa Pupuan, Kecamatan Tegalalang dan Desa Saba, Kecamatan Blahbatuh; Kabupaten Klungkung, yaitu di Kampung Toyapakeh, Kecamatan Nusa Penida dan Kampung Gelgel, Kecamatan Klungkung; Kabupaten Karangasem, yaitu di Desa Bebandem dan Kampung Kecicang Muslim, Desa Bungaya Kangin, Kecamatan Bebanden serta Desa Tianyar, Kecamatan Kubu; Kabupaten Bangli, yaitu di Desa Jehem, Kecamatan Tembuku; Kabupaten Buleleng, yaitu di Desa Bukti, Kecamatan Kubutambahan, Desa Pegayaman, Kecamatan Sukasada, Desa Kayu Putih, Kecamatan Banjar, dan Desa Banyupoh, Kecamatan Gerokgak.', '[31]\\n\\nBahasa Bali mengenal sistem sor singgih atau tingkatan-tingkatan berbahasa terutama bahasa Bali Dataran karena mendapatkan pengaruh dari Jawa.', 'Tingkatan-tingkatan berbahasa tersebut masih dipertahankan hingga kini oleh masyarakata Bali terutama dalam ranah-ranah tradisional.', 'Sistem Pelapisan sosial masyarakat Bali yang dikenal dengan catur warna sangat besar pengaruhnya terhadap penggunaan Bahasa Bali.', 'Masing-masing kelas sosial dalam masyarakat Bali akan menggunakan bahasa Bali sesuai dengan siapa yang diajak bicara.', 'Seorang sudra akan berbicara dengan bahasa Bali halus kepada seseorang dari kasta brahmana.', '[31]\\n\\nBahasa Bali terus mengalami perkembangan terutama bahasa Bali dataran yang disebut sebagai bahasa bali standar.', 'Berdasarkan hasil keputusan Pesamuhan Agung Bahasa Bali yang diadakan tahun 1974 bahasa Bali standar atau baku digunakan oleh masyarakat Bali dalam sekolah-sekolah, pertemuan-pertemuan, surat menyurat, kesusastraan, media massa elektronik dan cetak, adat dan budaya.', 'Bahasa Bali baku ini mengacu pada bahasa yang digunakan oleh masyarakat tutur bahasa Bali yang berdomisili di Klungkung dan kota Singaraja, hal ini disebabkan karena kedua wilayah ini cukup lama menjadi pusat kekuasaan politik, ekonomi dan kebudayaan Bali.', 'Selain itu, bahasa Bali di kedua daerah tersebut memiliki ciri yang sama baik secara fonologis maupun sintaksis.', '[31]\\n\\nTerdapat perbedaan yang cukup kentara dari bahasa Bali yang dituturkan di luar Bali dengan yang dituturkan di daerah Bali dan dari dialek Bali Aga dengan dialek Bali Dataran.', 'Berdasarkan perhitungan dialektometri, persentase perbedaan yang terukur antara dialek Bali Aga dengan dialek Bali Dataran adalah sebesar 60%.', 'Jika ditinjau lebih luas lagi terhadap daerah luar Bali, isolek Bali yang berada di pulau Bali memiliki perbedaan sebesar 71,75% dengan bahasa Bali di Nusa Tenggara Barat; sebesar 69,5% jika dibandingkan dengan bahasa Bali di Jawa Timur; sebesar 77,5% jika dibandingkan dengan bahasa Bali di Lampung; dan sebesar 76,75% jika dibandingkan dengan bahasa Bali di Sulawesi Tenggara.', '[31]\\n\\nPersawahan Jatiwulih yang masuk UNESCO di Tabanan, Bali.', 'Tiga dekade lalu, perekonomian Bali sebagian besar mengandalkan dan berbasis pada pertanian baik dari segi output dan kesempatan kerja.', 'Sekarang, industri pariwisata menjadi objek pendapatan terbesar bagi Bali.', 'Hasilnya, Bali menjadi salah satu daerah terkaya di Indonesia.', 'Pada tahun 2003, sekitar 80% perekonomian Bali bergantung pada industri pariwisata.', 'Pada akhir Juni 2011, non-performing loan dari semua bank di Bali adalah 2,23%, lebih rendah dari rata-rata non-performing loan industri perbankan Indonesia (sekitar 5%).', 'Ekonomi, bagaimanapun menderita secara signifikan sebagai akibat dari Bom Bali 2002 dan Bom Bali 2005.', 'Industri pariwisata sendiri telah pulih dari akibat peristiwa ini.', 'Pasca terjadinya Pandemi Covid-19 akhir tahun 2019, perekonomian Bali yang didominasi sektor Pariwisata, mengalami penurunan.', 'Akan tetapi, sektor pertanian menjadi salah satu penopang utama perekonomian di provinsi Bali.', '[32]\\n\\nBali adalah primadona pariwisata Indonesia yang sudah terkenal di seluruh dunia.', 'Selain terkenal dengan keindahan alam, terutama pantainya, Bali juga terkenal dengan kesenian dan budayanya yang unik dan menarik.', 'Industri pariwisata berpusat di Bali Selatan dan di beberapa daerah lainnya.', 'Lokasi wisata yang utama adalah Kuta dan sekitarnya seperti Legian dan Seminyak, daerah timur kota seperti Sanur, pusat kota seperti Ubud, dan di daerah selatan seperti Jimbaran, Nusa Dua dan Pecatu.', '[33]\\n\\nBali sebagai tempat tujuan wisata yang lengkap dan terpadu memiliki banyak sekali tempat wisata menarik, antara lain: Pantai Kuta, Pura Tanah Lot, Pantai Padang–Padang, Danau Beratan Bedugul, Garuda Wisnu Kencana (GWK), Pantai Lovina dengan Lumba Lumbanya, Pura Besakih, Uluwatu, Ubud, Munduk, Kintamani, Amed, Tulamben, Pulau Menjangan dan masih banyak yang lainnya.', 'Kini, Bali juga memiliki beberapa pusat wisata yang sarat edukasi untuk anak-anak seperti kebun binatang, museum tiga dimensi, taman bermain air, dan tempat penangkaran kura-kura.', '[33]\\n\\nBali tidak memiliki jaringan rel kereta api namun jaringan jalan yang ada di pulau ini tergolong sangat baik dibanding daerah-daerah lain di Indonesia, jaringan jalan tersedia dengan baik khususnya ke daerah-daerah tujuan wisatawan yakni Legian, Kuta, Sanur, Nusa Dua, Ubud, dll.', 'Sebagian besar penduduk memiliki kendaraan pribadi dan memilih menggunakannya karena moda transportasi umum tidak tersedia dengan baik, kecuali taksi dan angkutan pariwisata.', 'Moda transportasi massal saat ini disiapkan agar Bali mampu memberi kenyamanan lebih terhadap para wisatawan.', 'Baru-baru ini untuk melayani kebutuhan transportasi massal yang layak di pulau Bali diluncurkan Trans Sarbagita (Trans Denpasar, Badung, Gianyar, Tabanan) menggunakan bus besar dengan fasilitas AC dengan tarif Rp 3.500.', 'Sampai sekarang, transportasi di Bali umumnya dibangun di Bali bagian selatan sekitar Denpasar, Kuta, Nusa Dua, dan Sanur sedangkan wilayah utara kurang memiliki akomodasi yang baik.', 'Jenis kendaraan umum di Bali atara lain:\\n\\nDokar, kendaraan dengan menggunakan kuda sebagai penarik dikenal sebagai delman di tempat lain.', 'Ojek, taksi sepeda motor (sebagian sudah berbasis di intenet).', 'Bemo/angkot, melayani dalam dan antarkota.', 'Bus Trans Sarbagita (Koridor 1 < Kota–Garuda Wisnu Kencana (GWK) >) dan (Koridor 2 < Nusa Dua–Batubulan>).', 'Taksi (sebagian sudah mempunyai aplikasi di smartphone ).', ').', 'Komotra, bus yang melayani perjalanan ke kawasan pantai Kuta dan sekitarnya.', 'Bus, melayani hubungan antarkota, pedesaan, dan antarprovinsi.', 'Bali terhubung dengan pulau Jawa dengan layanan kapal feri yang menghubungkan Pelabuhan Gilimanuk di kabupaten Jembrana dengan Pelabuhan Ketapang di Kabupaten Banyuwangi yang lama tempuhnya sekitar 30 hingga 45 menit saja.', 'Penyeberangan ke Pulau Lombok melalui Pelabuhan Padangbai menuju Pelabuhan Lembar yang memakan waktu sekitar empat sampai lima jam lamanya tergantung cuaca.', 'Transportasi udara dilayani oleh Bandara Internasional Ngurah Rai dengan destinasi ke sejumlah kota besar di Indonesia, Australia, Singapura, Malaysia, Thailand, Timor Leste, RRC serta Jepang.', 'Landas pacu dan pesawat terbang yang datang dan pergi bisa terlihat dengan jelas dari pantai dan menjadi semacam hiburan tambahan bagi para wisatawan yang menikmati pantai Bali.', 'Untuk transportasi darat antar pulau di bali ada terminal Ubung-Denpasar dan terminal Mengwi yang menghubungkan pulau Bali dengan Pulau Jawa dan Pulau Lombok.', 'Terminal Ubung di pulau Bali ini melayani berbagai rute antar pulau tujuan Jakarta, Bandung, Semarang, Yogyakarta, Surabaya, Malang, Madura, Jember, dll.', 'Angkutan antar pulau dilayani oleh armada bus besar dengan kelas ekonomi, bisnis dan eksekutif.', 'Terminal Ubung relatif ramai mulai pukul 15.00–18.00 WITA karena pada jam tersebut banyak bus yang mulai berangkat ke kota tujuan masing-masing.', 'Bagi anda yang datang ke terminal ini harap waspada karena banyak calo tiket yang agak memaksa penumpang.', 'Rumah Adat [ sunting | sunting sumber ]\\n\\nBangunan khas Bali\\n\\nRumah Bali yang sesuai dengan aturan Asta Kosala Kosali (bagian Weda yang mengatur tata letak ruangan dan bangunan).', 'Menurut filosofi masyarakat Bali, kedinamisan dalam hidup akan tercapai apabila terwujudnya hubungan yang harmonis antara aspek pawongan, palemahan dan parahyangan.', 'Untuk itu pembangunan sebuah rumah harus meliputi aspek-aspek tersebut atau yang biasa disebut Tri Hita Karana.', 'Pawongan merupakan para penghuni rumah.', 'Palemahan berarti harus ada hubungan yang baik antara penghuni rumah dan lingkungannya.', 'Pada umumnya bangunan atau arsitektur tradisional daerah Bali selalu dipenuhi hiasan, berupa ukiran, peralatan serta pemberian warna.', 'Ragam hias tersebut mengandung arti tertentu sebagai ungkapan keindahan simbol-simbol dan penyampaian komunikasi.', 'Bentuk-bentuk ragam hias dari jenis fauna juga berfungsi sebagai simbol-simbol ritual yang ditampilkan dalam patung.', 'Seperangkat gamelan Bali.', 'Musik tradisional Bali memiliki kesamaan dengan musik tradisional di banyak daerah lainnya di Indonesia, misalnya dalam penggunaan gamelan dan berbagai alat musik tabuh lainnya.', 'Meskipun demikian, terdapat kekhasan dalam teknik memainkan dan gubahannya, misalnya dalam bentuk kecak, yaitu sebentuk nyanyian yang konon menirukan suara kera.', 'Demikian pula beragam gamelan yang dimainkan, misalnya gamelan jegog, gamelan gong gede(gamelan jawa kuno), gamelan gambang, gamelan selunding dan gamelan Semar Pegulingan.', 'Ada pula musik Angklung dimainkan untuk upacara ngaben serta musik Bebonangan dimainkan dalam berbagai upacara lainnya.', 'Terdapat bentuk modern dari musik tradisional Bali, misalnya Gamelan Gong Kebyar yang merupakan musik tarian yang dikembangkan pada masa penjajahan Belanda serta Joged Bumbung yang mulai populer di Bali sejak era tahun 1950-an.', 'Umumnya musik Bali merupakan kombinasi dari berbagai alat musik perkusi metal (metalofon), gong dan perkusi kayu (xilofon).', 'Karena hubungan sosial, politik dan budaya, musik tradisional Bali atau permainan gamelan gaya Bali memberikan pengaruh atau saling memengaruhi daerah budaya di sekitarnya, misalnya pada musik tradisional masyarakat Banyuwangi serta musik tradisional masyarakat Lombok.', '2.000 peserta Tari Tenun, pada acara Petitenget Festival, di pantai Petitenget, 16 September 2018\\n\\nSeni tari Bali pada umumnya dapat dikategorikan menjadi tiga kelompok, yaitu wali atau seni tari pertunjukan sakral, bebali atau seni tari pertunjukan untuk upacara dan juga untuk pengunjung dan balih-balihan atau seni tari untuk hiburan pengunjung.', '[34]\\n\\nPakar seni tari Bali I Made Bandem[35] pada awal tahun 1980-an pernah menggolongkan tari-tarian Bali tersebut; antara lain yang tergolong ke dalam wali misalnya Berutuk, Sang Hyang Dedari, Rejang dan Baris Gede, bebali antara lain ialah Gambuh, Topeng Pajegan dan Wayang Wong, sedangkan balih-balihan antara lain ialah Legong, Parwa, Arja, Prembon dan Joged serta berbagai koreografi tari modern lainnya.', 'Salah satu tarian yang sangat populer bagi para wisatawan ialah Tari Kecak dan Tari Pendet.', 'Sekitar tahun 1930-an, Wayan Limbak bekerja sama dengan pelukis Jerman Walter Spies menciptakan tari Kecak berdasarkan tradisi Sang Hyang dan bagian-bagian kisah Ramayana.', 'Wayan Limbak memopulerkan tari ini saat berkeliling dunia bersama rombongan penari Bali-nya.', 'Tarian wali [ sunting | sunting sumber ]\\n\\nSang Hyang Dedari\\n\\nSang Hyang Jaran\\n\\nTari Rejang\\n\\nTari Baris\\n\\nTarian bebali [ sunting | sunting sumber ]\\n\\nPakaian daerah [ sunting | sunting sumber ]\\n\\nPakaian daerah Bali sesungguhnya sangat bervariasi, meskipun secara selintas kelihatannya sama.', 'Masing-masing daerah di Bali mempunyai ciri khas simbolik dan ornamen, berdasarkan kegiatan/upacara, jenis kelamin dan umur penggunanya.', 'Status sosial dan ekonomi seseorang dapat diketahui berdasarkan corak busana dan ornamen perhiasan yang dipakainya.', 'Anak-anak Ubud mengenakan udeng, kemeja putih dan kain.', 'Busana tradisional pria umumnya terdiri dari:\\n\\nUdeng (ikat kepala)\\n\\nKain kampuh\\n\\nUmpal (selendang pengikat)\\n\\nKain wastra (kemben)\\n\\nSabuk\\n\\nKeris\\n\\nBeragam ornamen perhiasan\\n\\nSering pula dikenakan baju kemeja, jas dan alas kaki sebagai pelengkap.', 'Para penari cilik mengenakan gelung, songket dan kain prada.', 'Busana tradisional wanita umumnya terdiri dari:\\n\\nGelung (sanggul)\\n\\nSesenteng (kemben songket)\\n\\nKain wastra\\n\\nSabuk prada (stagen), membelit pinggul dan dada\\n\\nSelendang songket bahu ke bawah\\n\\nKain tapih atau sinjang, di sebelah dalam\\n\\nBeragam ornamen perhiasan\\n\\nSering pula dikenakan kebaya, kain penutup dada, dan alas kaki sebagai pelengkap.', 'Makanan utama [ sunting | sunting sumber ]\\n\\nProvinsi Bali memiliki beragam kuliner khas Bali.', 'Berbagai makanan olahan daging ayam dan babi, mendominasi kuliner di Bali.', 'Makanan yang terkenal berasa dari Bali termasuk Ayam betutu dan Babi guling.', '[36]\\n\\nBubuh Sagu\\n\\nBubuh Sumsum\\n\\nBubuh Tuak\\n\\nJaja Batun Duren\\n\\nJaja Begina\\n\\nJaja Bendu\\n\\nJaja Bikang\\n\\nJaja Engol\\n\\nJaja Lukis\\n\\nJaja Godoh\\n\\nJaja Jongkong\\n\\nJaja Ketimus\\n\\nJaja Klepon\\n\\nJaja Lak-Lak\\n\\nJaja Sumping\\n\\nJaja Tain Buati\\n\\nJaja Uli misi Tape\\n\\nJaja Giling\\n\\nJaja Wajik\\n\\nRujak Bulung\\n\\nRujak Kuah Pindang\\n\\nRujak Manis\\n\\nRujak Tibah\\n\\nJaja Abug\\n\\nJaja Lempog\\n\\nJaja Baro-Baro\\n\\nSalah satu senjata yang digunakan di Bali ialah Blakas.', 'Blakas merupakan senjata tajam mirip pisau daging dari Bali, Indonesia yang memiliki bilah berbentuk persegi empat dengan mata pisau lurus.', '[37]\\n\\nPahlawan Nasional [ sunting | sunting sumber ]\\n\\nDinas pendidikan provinsi Bali menerima penghargaan terbaik pertama dalam ajang pengelola PIP dikdasmen kategori dinas pendidikan provinsi.', '[38]\\n\\nDalam budaya populer [ sunting | sunting sumber ]\\n\\nLihat pula [ sunting | sunting sumber ]\\n\\nPranala luar [ sunting | sunting sumber ]\\n\\nKoordinat:']\n"
          ]
        }
      ],
      "source": [
        "print(sentence_list)"
      ]
    },
    {
      "cell_type": "code",
      "execution_count": null,
      "metadata": {
        "id": "zaiLP0Qcybyq"
      },
      "outputs": [],
      "source": [
        "def greeting_response(text):\n",
        "  text = text.lower()\n",
        "\n",
        "  # Bot Response\n",
        "  bot_greetings = ['howdy', 'hi', 'hey', 'hello', 'hola']\n",
        "  # Users greeting\n",
        "  user_greetings = ['hi', 'hey', 'hello', 'hola', 'greetings', 'wassup']\n",
        "\n",
        "\n",
        "  for word in text.split():\n",
        "    if word in user_greetings:\n",
        "      return random.choice(bot_greetings)"
      ]
    },
    {
      "cell_type": "code",
      "execution_count": null,
      "metadata": {
        "id": "dd-9MUU30O8t"
      },
      "outputs": [],
      "source": [
        "def index_sort(list_var):\n",
        "  length = len(list_var)\n",
        "  list_index = list(range(0, length))\n",
        "  \n",
        "\n",
        "  x = list_var\n",
        "  for i in range(length):\n",
        "    for j in range(length):\n",
        "      if x[list_index[i]] > x[list_index[j]]:\n",
        "\n",
        "        #Swap\n",
        "        temp = list_index[i]\n",
        "        list_index[i] = list_index[j]\n",
        "        list_index[j] = temp\n",
        "\n",
        "  return list_index"
      ]
    },
    {
      "cell_type": "code",
      "execution_count": null,
      "metadata": {
        "id": "6hr7h7GKzgQw"
      },
      "outputs": [],
      "source": [
        "# Membuat bot response\n",
        "def bot_response(user_input):\n",
        "  user_input = user_input.lower()\n",
        "  sentence_list.append(user_input)\n",
        "  bot_response = ''\n",
        "  cm = CountVectorizer().fit_transform(sentence_list)\n",
        "  similarity_scores = cosine_similarity(cm[-1], cm)\n",
        "  similarity_scores_list = similarity_scores.flatten()\n",
        "  index = index_sort(similarity_scores_list)\n",
        "  index = index[1:]\n",
        "  response_flag = 0\n",
        "\n",
        "  j = 0\n",
        "  for i in range(len(index)):\n",
        "    if similarity_scores_list[index[i]] > 0.0:\n",
        "      bot_response = bot_response+' '+sentence_list[index[i]]\n",
        "      response_flag = 1\n",
        "      j = j+1\n",
        "    if j > 2:\n",
        "      break\n",
        "\n",
        "    if response_flag == 0:\n",
        "      bot_response = bot_response+' '+\"Maap, Saya Tidak Mengerti\"\n",
        "\n",
        "    sentence_list.remove(user_input)\n",
        "\n",
        "    return bot_response\n",
        "       "
      ]
    },
    {
      "cell_type": "code",
      "execution_count": 81,
      "metadata": {
        "colab": {
          "base_uri": "https://localhost:8080/"
        },
        "id": "i6326sMF1TAc",
        "outputId": "5e6973a7-dc58-495d-c1df-c398babf7a94"
      },
      "outputs": [
        {
          "output_type": "stream",
          "name": "stdout",
          "text": [
            "Start Bot\n",
            "Doc Bot: hi\n",
            "Doc Bot:  [33]\n",
            "\n",
            "Bali sebagai tempat tujuan wisata yang lengkap dan terpadu memiliki banyak sekali tempat wisata menarik, antara lain: Pantai Kuta, Pura Tanah Lot, Pantai Padang–Padang, Danau Beratan Bedugul, Garuda Wisnu Kencana (GWK), Pantai Lovina dengan Lumba Lumbanya, Pura Besakih, Uluwatu, Ubud, Munduk, Kintamani, Amed, Tulamben, Pulau Menjangan dan masih banyak yang lainnya.\n",
            "Doc Bot:  Koster dan Cok Ace dilantik oleh presiden Republik Indonesia Joko Widodo, di Istana Negara Jakarta pada 5 September 2018, untuk masa jabatan 2018-2023.\n",
            "dadah\n",
            "Bot: Sampai Jumpa !\n"
          ]
        }
      ],
      "source": [
        "print('Start Bot')\n",
        "\n",
        "exit_list = ['keluar', 'see', 'bye', 'dadah', 'quit', 'exit', 'break']\n",
        "\n",
        "while(True):\n",
        "  user_input = input()\n",
        "  if user_input.lower() in exit_list:\n",
        "    print('Bot: Sampai Jumpa !')\n",
        "    break\n",
        "  else:\n",
        "    if greeting_response(user_input) != None:\n",
        "      print('Doc Bot: '+greeting_response(user_input))\n",
        "    else:\n",
        "      print('Doc Bot: '+bot_response(user_input))"
      ]
    },
    {
      "cell_type": "code",
      "execution_count": null,
      "metadata": {
        "id": "-wBCmjMpiIyH"
      },
      "outputs": [],
      "source": [
        "\n"
      ]
    }
  ],
  "metadata": {
    "colab": {
      "provenance": []
    },
    "kernelspec": {
      "display_name": "Python 3",
      "name": "python3"
    },
    "language_info": {
      "name": "python"
    }
  },
  "nbformat": 4,
  "nbformat_minor": 0
}